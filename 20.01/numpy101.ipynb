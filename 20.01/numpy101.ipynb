{
 "cells": [
  {
   "cell_type": "markdown",
   "metadata": {},
   "source": [
    "# 1 引入numpy并查看版本\n",
    "```\n",
    "out:1.17.3\n",
    "```"
   ]
  },
  {
   "cell_type": "code",
   "execution_count": null,
   "metadata": {},
   "outputs": [
    {
     "evalue": "Error: Jupyter server crashed. Unable to connect. \r\nError code from jupyter: 1",
     "output_type": "error"
    }
   ],
   "source": [
    "import numpy as np\n",
    "np.__version__"
   ]
  },
  {
   "cell_type": "markdown",
   "metadata": {},
   "source": [
    "# 2 创建一位数组，0-9\n",
    "```\n",
    "out:array([0, 1, 2, 3, 4, 5, 6, 7, 8, 9])\n",
    "```"
   ]
  },
  {
   "cell_type": "code",
   "execution_count": 4,
   "metadata": {},
   "outputs": [
    {
     "data": {
      "text/plain": [
       "array([0, 1, 2, 3, 4, 5, 6, 7, 8, 9])"
      ]
     },
     "execution_count": 4,
     "metadata": {},
     "output_type": "execute_result"
    }
   ],
   "source": [
    "np.arange(10)"
   ]
  },
  {
   "cell_type": "markdown",
   "metadata": {},
   "source": [
    "# 3 创建boolean数组（3x3全部为True）\n",
    "```\n",
    "out:array([[ True,  True,  True],\n",
    "       [ True,  True,  True],\n",
    "       [ True,  True,  True]])\n",
    "```"
   ]
  },
  {
   "cell_type": "code",
   "execution_count": 6,
   "metadata": {},
   "outputs": [
    {
     "data": {
      "text/plain": [
       "array([[ True,  True,  True],\n",
       "       [ True,  True,  True],\n",
       "       [ True,  True,  True]])"
      ]
     },
     "execution_count": 6,
     "metadata": {},
     "output_type": "execute_result"
    }
   ],
   "source": [
    "np.full((3,3),True)"
   ]
  },
  {
   "cell_type": "markdown",
   "metadata": {},
   "source": [
    "# 4 提取满足条件的元素（提取奇数项）\n",
    "```\n",
    "in:    arr = np.array([0, 1, 2, 3, 4, 5, 6, 7, 8, 9])\n",
    "out:   array([1, 3, 5, 7, 9])\n",
    "```"
   ]
  },
  {
   "cell_type": "code",
   "execution_count": 8,
   "metadata": {},
   "outputs": [
    {
     "data": {
      "text/plain": [
       "array([1, 3, 5, 7, 9])"
      ]
     },
     "execution_count": 8,
     "metadata": {},
     "output_type": "execute_result"
    }
   ],
   "source": [
    "arr = np.array([0, 1, 2, 3, 4, 5, 6, 7, 8, 9])\n",
    "arr[arr%2==1]"
   ]
  },
  {
   "cell_type": "markdown",
   "metadata": {},
   "source": [
    "# 5 替换满足条件的元素（替换奇数项为-1）\n",
    "```\n",
    "in: arr = np.array([0, 1, 2, 3, 4, 5, 6, 7, 8, 9])\n",
    "out:array([0, -1, 2, -1, 4, -1, 6, -1, 8, -1])\n",
    "```"
   ]
  },
  {
   "cell_type": "code",
   "execution_count": 9,
   "metadata": {},
   "outputs": [
    {
     "data": {
      "text/plain": [
       "array([ 0, -1,  2, -1,  4, -1,  6, -1,  8, -1])"
      ]
     },
     "execution_count": 9,
     "metadata": {},
     "output_type": "execute_result"
    }
   ],
   "source": [
    "arr = np.array([0, 1, 2, 3, 4, 5, 6, 7, 8, 9])\n",
    "arr[arr%2==1] = -1\n",
    "arr"
   ]
  },
  {
   "cell_type": "markdown",
   "metadata": {},
   "source": [
    "# 6 与5相同，但是不要在原数组上改动，返回个新的数组"
   ]
  },
  {
   "cell_type": "code",
   "execution_count": 10,
   "metadata": {},
   "outputs": [
    {
     "data": {
      "text/plain": [
       "array([ 0, -1,  2, -1,  4, -1,  6, -1,  8, -1])"
      ]
     },
     "execution_count": 10,
     "metadata": {},
     "output_type": "execute_result"
    }
   ],
   "source": [
    "arr = np.array([0, 1, 2, 3, 4, 5, 6, 7, 8, 9])\n",
    "res = np.where(arr%2==1,-1,arr)\n",
    "res"
   ]
  },
  {
   "cell_type": "markdown",
   "metadata": {},
   "source": [
    "# 7 reshape一个数组（0-9这个一维数组->2x5的二维数组）\n",
    "```\n",
    "in: arr = np.array([0, 1, 2, 3, 4, 5, 6, 7, 8, 9])\n",
    "out: array([[0, 1, 2, 3, 4],\n",
    "       [5, 6, 7, 8, 9]])\n",
    "```"
   ]
  },
  {
   "cell_type": "code",
   "execution_count": 11,
   "metadata": {},
   "outputs": [
    {
     "data": {
      "text/plain": [
       "array([[0, 1, 2, 3, 4],\n",
       "       [5, 6, 7, 8, 9]])"
      ]
     },
     "execution_count": 11,
     "metadata": {},
     "output_type": "execute_result"
    }
   ],
   "source": [
    "arr.reshape(2,5)"
   ]
  },
  {
   "cell_type": "markdown",
   "metadata": {},
   "source": [
    "# 8 垂直拼接俩数组\n",
    "```\n",
    "in: a = np.arange(10).reshape(2,-1)\n",
    "   b = np.repeat(1, 10).reshape(2,-1)\n",
    "out: array([[0, 1, 2, 3, 4],\n",
    "       [5, 6, 7, 8, 9],\n",
    "       [1, 1, 1, 1, 1],\n",
    "       [1, 1, 1, 1, 1]])\n",
    "```"
   ]
  },
  {
   "cell_type": "code",
   "execution_count": 14,
   "metadata": {},
   "outputs": [
    {
     "data": {
      "text/plain": [
       "array([[0, 1, 2, 3, 4],\n",
       "       [5, 6, 7, 8, 9],\n",
       "       [1, 1, 1, 1, 1],\n",
       "       [1, 1, 1, 1, 1]])"
      ]
     },
     "execution_count": 14,
     "metadata": {},
     "output_type": "execute_result"
    }
   ],
   "source": [
    "a = np.arange(10).reshape(2,-1)\n",
    "b = np.repeat(1, 10).reshape(2,-1)\n",
    "\n",
    "np.vstack([a,b])"
   ]
  },
  {
   "cell_type": "markdown",
   "metadata": {},
   "source": [
    "# 9 水平拼接俩数组\n",
    "```\n",
    "in: a = np.arange(10).reshape(2,-1)\n",
    "   b = np.repeat(1, 10).reshape(2,-1)\n",
    "out: array([[0, 1, 2, 3, 4, 1, 1, 1, 1, 1],\n",
    "       [5, 6, 7, 8, 9, 1, 1, 1, 1, 1]])\n",
    "```"
   ]
  },
  {
   "cell_type": "code",
   "execution_count": 16,
   "metadata": {},
   "outputs": [
    {
     "data": {
      "text/plain": [
       "array([[0, 1, 2, 3, 4, 1, 1, 1, 1, 1],\n",
       "       [5, 6, 7, 8, 9, 1, 1, 1, 1, 1]])"
      ]
     },
     "execution_count": 16,
     "metadata": {},
     "output_type": "execute_result"
    }
   ],
   "source": [
    "a = np.arange(10).reshape(2,-1)\n",
    "b = np.repeat(1, 10).reshape(2,-1)\n",
    "\n",
    "np.hstack([a,b])"
   ]
  },
  {
   "cell_type": "markdown",
   "metadata": {},
   "source": [
    "# 10 生成自定义的数组\n",
    "```\n",
    "in: a = np.array([1,2,3])\n",
    "out: array([1, 1, 1, 2, 2, 2, 3, 3, 3, 1, 2, 3, 1, 2, 3, 1, 2, 3])\n",
    "```"
   ]
  },
  {
   "cell_type": "code",
   "execution_count": 19,
   "metadata": {},
   "outputs": [
    {
     "data": {
      "text/plain": [
       "array([1, 1, 1, 2, 2, 2, 3, 3, 3, 1, 2, 3, 1, 2, 3, 1, 2, 3])"
      ]
     },
     "execution_count": 19,
     "metadata": {},
     "output_type": "execute_result"
    }
   ],
   "source": [
    "a = np.array([1,2,3])\n",
    "\n",
    "np.hstack([np.repeat(a,3),np.tile(a,3)])"
   ]
  },
  {
   "cell_type": "markdown",
   "metadata": {},
   "source": [
    "# 11 求两数组交集\n",
    "```\n",
    "in: a = np.array([1,2,3,2,3,4,3,4,5,6])\n",
    "   b = np.array([7,2,10,2,7,4,9,4,9,8])\n",
    "out:array([2, 4])\n",
    "```"
   ]
  },
  {
   "cell_type": "code",
   "execution_count": 20,
   "metadata": {},
   "outputs": [
    {
     "data": {
      "text/plain": [
       "array([2, 4])"
      ]
     },
     "execution_count": 20,
     "metadata": {},
     "output_type": "execute_result"
    }
   ],
   "source": [
    "a = np.array([1,2,3,2,3,4,3,4,5,6])\n",
    "b = np.array([7,2,10,2,7,4,9,4,9,8])\n",
    "\n",
    "np.intersect1d(a,b)"
   ]
  },
  {
   "cell_type": "markdown",
   "metadata": {},
   "source": [
    "# 12 从一个数组中删除另一个数组中含有的元素\n",
    "```\n",
    "in: a = np.array([1,2,3,4,5])\n",
    "   b = np.array([5,6,7,8,9])\n",
    "out:array([1,2,3,4])\n",
    "```"
   ]
  },
  {
   "cell_type": "code",
   "execution_count": 21,
   "metadata": {},
   "outputs": [
    {
     "data": {
      "text/plain": [
       "array([1, 2, 3, 4])"
      ]
     },
     "execution_count": 21,
     "metadata": {},
     "output_type": "execute_result"
    }
   ],
   "source": [
    "a = np.array([1,2,3,4,5])\n",
    "b = np.array([5,6,7,8,9])\n",
    "\n",
    "np.setdiff1d(a,b)"
   ]
  },
  {
   "cell_type": "markdown",
   "metadata": {},
   "source": [
    "# 13 两等长数组，找出位置相同且值也相同的下标\n",
    "```\n",
    "in: a = np.array([1,2,3,2,3,4,3,4,5,6])\n",
    "   b = np.array([7,2,10,2,7,4,9,4,9,8])\n",
    "out:(array([1, 3, 5, 7]),)\n",
    "```"
   ]
  },
  {
   "cell_type": "code",
   "execution_count": null,
   "metadata": {},
   "outputs": [],
   "source": [
    "a = np.array([1,2,3,2,3,4,3,4,5,6])\n",
    "b = np.array([7,2,10,2,7,4,9,4,9,8])\n",
    "\n",
    "np.where(a == b)"
   ]
  },
  {
   "cell_type": "markdown",
   "metadata": {},
   "source": [
    "# 14 提取给定范围的数据(提取值在5-10之间的元素)\n",
    "```\n",
    "in: a = np.array([2, 6, 1, 9, 10, 3, 27])\n",
    "out:(array([6, 9, 10]),)\n",
    "```"
   ]
  },
  {
   "cell_type": "code",
   "execution_count": null,
   "metadata": {},
   "outputs": [
    {
     "evalue": "Error: Failed to connect to Jupyter notebook. \r\nhttp://localhost:8888/\r\nError: Invalid response: 500 Internal Server Error",
     "output_type": "error"
    }
   ],
   "source": [
    "a = np.array([2, 6, 1, 9, 10, 3, 27])\n",
    "# Method 1\n",
    "index = np.where((a >= 5) & (a <= 10))\n",
    "a[index]\n",
    "\n",
    "# Method 2:\n",
    "index = np.where(np.logical_and(a>=5, a<=10))\n",
    "a[index]\n",
    "#> (array([6, 9, 10]),)\n",
    "\n",
    "# Method 3: (thanks loganzk!)\n",
    "a[(a >= 5) & (a <= 10)]"
   ]
  },
  {
   "cell_type": "markdown",
   "metadata": {},
   "source": [
    "# 15 取a,b两等长数组中较大值为新数组\n",
    "```\n",
    "in: a = [4,6,1,7,9]\n",
    "b=[1,6,9,2,7]\n",
    "```"
   ]
  },
  {
   "cell_type": "code",
   "execution_count": 211,
   "metadata": {},
   "outputs": [
    {
     "data": {
      "text/plain": [
       "[4, 6, 9, 7, 9]"
      ]
     },
     "execution_count": 211,
     "metadata": {},
     "output_type": "execute_result"
    }
   ],
   "source": [
    "a = [4,6,1,7,9]\n",
    "b=[1,6,9,2,7]\n",
    "\n",
    "def maxx(x,y):\n",
    "    if x>y:\n",
    "        return x\n",
    "    else:\n",
    "        return y\n",
    "pair_max = np.vectorize(maxx, otypes=[float])",
     "\n",
    "pair_max(a, b)"
   ]
  },
  {
   "cell_type": "markdown",
   "metadata": {},
   "source": [
    "# 16 如何交换二维数组两列（交换3x3数组的第0和第1列）\n",
    "```\n",
    "in:arr = np.arange(9).reshape(3,3)\n",
    "out:array([[1, 0, 2],\n",
    "       [4, 3, 5],\n",
    "       [7, 6, 8]])\n",
    "       ```"
   ]
  },
  {
   "cell_type": "code",
   "execution_count": 24,
   "metadata": {},
   "outputs": [
    {
     "data": {
      "text/plain": [
       "array([[1, 0, 2],\n",
       "       [4, 3, 5],\n",
       "       [7, 6, 8]])"
      ]
     },
     "execution_count": 24,
     "metadata": {},
     "output_type": "execute_result"
    }
   ],
   "source": [
    "arr = np.arange(9).reshape(3,3)\n",
    "\n",
    "arr[:,[1,0,2]]"
   ]
  },
  {
   "cell_type": "markdown",
   "metadata": {},
   "source": [
    "# 17 如何交换二维数组两行（交换3x3数组第0和第1行）\n",
    "```\n",
    "in:arr = np.arange(9).reshape(3,3)\n",
    "out:array([[3, 4, 5],\n",
    "       [0, 1, 2],\n",
    "       [6, 7, 8]])\n",
    "```"
   ]
  },
  {
   "cell_type": "code",
   "execution_count": 25,
   "metadata": {},
   "outputs": [
    {
     "data": {
      "text/plain": [
       "array([[3, 4, 5],\n",
       "       [0, 1, 2],\n",
       "       [6, 7, 8]])"
      ]
     },
     "execution_count": 25,
     "metadata": {},
     "output_type": "execute_result"
    }
   ],
   "source": [
    "arr =np.arange(9).reshape(3,3)\n",
    "\n",
    "arr[[1,0,2],:]"
   ]
  },
  {
   "cell_type": "markdown",
   "metadata": {},
   "source": [
    "# 18 如何反转二维数组的行\n",
    "```\n",
    "in:arr = np.arange(9).reshape(3,3)\n",
    "out:array([[6, 7, 8],\n",
    "       [3, 4, 5],\n",
    "       [0, 1, 2]])\n",
    "```"
   ]
  },
  {
   "cell_type": "code",
   "execution_count": 26,
   "metadata": {},
   "outputs": [
    {
     "data": {
      "text/plain": [
       "array([[6, 7, 8],\n",
       "       [3, 4, 5],\n",
       "       [0, 1, 2]])"
      ]
     },
     "execution_count": 26,
     "metadata": {},
     "output_type": "execute_result"
    }
   ],
   "source": [
    "arr =np.arange(9).reshape(3,3)\n",
    "\n",
    "arr[[2,1,0],:]"
   ]
  },
  {
   "cell_type": "markdown",
   "metadata": {},
   "source": [
    "# 19  如何反转二维数组的列\n",
    "```\n",
    "in:arr = np.arange(9).reshape(3,3)\n",
    "out:array([[2, 1, 0],\n",
    "       [5, 4, 3],\n",
    "       [8, 7, 6]])\n",
    "       ```"
   ]
  },
  {
   "cell_type": "code",
   "execution_count": 28,
   "metadata": {},
   "outputs": [
    {
     "data": {
      "text/plain": [
       "array([[2, 1, 0],\n",
       "       [5, 4, 3],\n",
       "       [8, 7, 6]])"
      ]
     },
     "execution_count": 28,
     "metadata": {},
     "output_type": "execute_result"
    }
   ],
   "source": [
    "arr =np.arange(9).reshape(3,3)\n",
    "\n",
    "arr[:, ::-1]"
   ]
  },
  {
   "cell_type": "markdown",
   "metadata": {},
   "source": [
    "# 20 创建5x3的float二维数组，值是5-10的随机数"
   ]
  },
  {
   "cell_type": "code",
   "execution_count": 30,
   "metadata": {},
   "outputs": [
    {
     "data": {
      "text/plain": [
       "array([[5.43541617, 9.25087231, 9.00250654],\n",
       "       [8.84754627, 5.10112779, 8.05907127],\n",
       "       [5.12577106, 7.23626959, 8.96631943],\n",
       "       [7.31949177, 8.84183137, 5.68644925],\n",
       "       [8.79738015, 8.39729373, 5.68116535]])"
      ]
     },
     "execution_count": 30,
     "metadata": {},
     "output_type": "execute_result"
    }
   ],
   "source": [
    "np.random.uniform(5,10, size=(5,3))"
   ]
  },
  {
   "cell_type": "markdown",
   "metadata": {},
   "source": [
    "# 21 [打印设置相关]float数组每个元素保留小数点后3位打印(只是打印时，本质不变)\n",
    "```\n",
    "in:rand_arr = np.random.random((5,3))\n",
    "```"
   ]
  },
  {
   "cell_type": "code",
   "execution_count": 32,
   "metadata": {},
   "outputs": [
    {
     "data": {
      "text/plain": [
       "array([[0.767, 0.007, 0.587],\n",
       "       [0.066, 0.588, 0.268],\n",
       "       [0.408, 0.887, 0.274],\n",
       "       [0.331, 0.088, 0.428],\n",
       "       [0.85 , 0.939, 0.672]])"
      ]
     },
     "execution_count": 32,
     "metadata": {},
     "output_type": "execute_result"
    }
   ],
   "source": [
    "rand_arr = np.random.random((5,3))\n",
    "\n",
    "np.set_printoptions(precision=3)\n",
    "\n",
    "rand_arr"
   ]
  },
  {
   "cell_type": "markdown",
   "metadata": {},
   "source": [
    "# 22 [打印设置相关]避免科学计数法打印数组\n",
    "```\n",
    "in:np.random.seed(100)\n",
    "rand_arr = np.random.random([3,3])/1e3\n",
    "```"
   ]
  },
  {
   "cell_type": "code",
   "execution_count": 34,
   "metadata": {},
   "outputs": [
    {
     "data": {
      "text/plain": [
       "array([[0.000543, 0.000278, 0.000425],\n",
       "       [0.000845, 0.000005, 0.000122],\n",
       "       [0.000671, 0.000826, 0.000137]])"
      ]
     },
     "execution_count": 34,
     "metadata": {},
     "output_type": "execute_result"
    }
   ],
   "source": [
    "np.random.seed(100)\n",
    "rand_arr = np.random.random([3,3])/1e3\n",
    "\n",
    "np.set_printoptions(suppress=True, precision=6)  \n",
    "rand_arr"
   ]
  },
  {
   "cell_type": "markdown",
   "metadata": {},
   "source": [
    "# 23 [打印设置相关]如何限制数组打印条数\n",
    "```\n",
    "in:a = np.arange(15)\n",
    "out: array([ 0,  1,  2, ..., 12, 13, 14])\n",
    "```"
   ]
  },
  {
   "cell_type": "code",
   "execution_count": 38,
   "metadata": {},
   "outputs": [
    {
     "data": {
      "text/plain": [
       "array([ 0,  1,  2, ..., 12, 13, 14])"
      ]
     },
     "execution_count": 38,
     "metadata": {},
     "output_type": "execute_result"
    }
   ],
   "source": [
    "a = np.arange(15)\n",
    "\n",
    "np.set_printoptions(threshold=6)\n",
    "a"
   ]
  },
  {
   "cell_type": "markdown",
   "metadata": {},
   "source": [
    "# 24 [打印设置相关]如何打印全部数据避免被省略"
   ]
  },
  {
   "cell_type": "code",
   "execution_count": 43,
   "metadata": {},
   "outputs": [
    {
     "data": {
      "text/plain": [
       "array([ 0,  1,  2,  3,  4,  5,  6,  7,  8,  9, 10, 11, 12, 13, 14, 15, 16,\n",
       "       17, 18, 19, 20, 21, 22, 23, 24, 25, 26, 27, 28, 29, 30, 31, 32, 33,\n",
       "       34, 35, 36, 37, 38, 39, 40, 41, 42, 43, 44, 45, 46, 47, 48, 49, 50,\n",
       "       51, 52, 53, 54, 55, 56, 57, 58, 59, 60, 61, 62, 63, 64, 65, 66, 67,\n",
       "       68, 69, 70, 71, 72, 73, 74, 75, 76, 77, 78, 79, 80, 81, 82, 83, 84,\n",
       "       85, 86, 87, 88, 89, 90, 91, 92, 93, 94, 95, 96, 97, 98, 99])"
      ]
     },
     "execution_count": 43,
     "metadata": {},
     "output_type": "execute_result"
    }
   ],
   "source": [
    "np.set_printoptions(threshold=1000)\n",
    "np.arange(100)"
   ]
  },
  {
   "cell_type": "markdown",
   "metadata": {},
   "source": [
    "# 25 导入含有数字和文本的数据集，保证数据完整(不要让文本变nan了)\n",
    "```\n",
    "in:url = 'https://archive.ics.uci.edu/ml/machine-learning-databases/iris/iris.data'\n",
    "```"
   ]
  },
  {
   "cell_type": "code",
   "execution_count": 48,
   "metadata": {},
   "outputs": [
    {
     "data": {
      "text/plain": [
       "array([[b'5.1', b'3.5', b'1.4', b'0.2', b'Iris-setosa'],\n",
       "       [b'4.9', b'3.0', b'1.4', b'0.2', b'Iris-setosa'],\n",
       "       [b'4.7', b'3.2', b'1.3', b'0.2', b'Iris-setosa'],\n",
       "       ...,\n",
       "       [b'6.5', b'3.0', b'5.2', b'2.0', b'Iris-virginica'],\n",
       "       [b'6.2', b'3.4', b'5.4', b'2.3', b'Iris-virginica'],\n",
       "       [b'5.9', b'3.0', b'5.1', b'1.8', b'Iris-virginica']], dtype=object)"
      ]
     },
     "execution_count": 48,
     "metadata": {},
     "output_type": "execute_result"
    }
   ],
   "source": [
    "url = 'https://archive.ics.uci.edu/ml/machine-learning-databases/iris/iris.data'\n",
    "np.set_printoptions(threshold=6)\n",
    "iris = np.genfromtxt(url, delimiter=',', dtype='object')\n",
    "iris"
   ]
  },
  {
   "cell_type": "markdown",
   "metadata": {},
   "source": [
    "# 26 一维tuple数组，提取特定一列\n",
    "```\n",
    "in:url = 'https://archive.ics.uci.edu/ml/machine-learning-databases/iris/iris.data'\n",
    "iris_1d = np.genfromtxt(url, delimiter=',', dtype=None)\n",
    "```"
   ]
  },
  {
   "cell_type": "code",
   "execution_count": 52,
   "metadata": {},
   "outputs": [
    {
     "name": "stderr",
     "output_type": "stream",
     "text": [
      "/opt/conda/lib/python3.7/site-packages/ipykernel_launcher.py:2: VisibleDeprecationWarning: Reading unicode strings without specifying the encoding argument is deprecated. Set the encoding, use None for the system default.\n",
      "  \n"
     ]
    },
    {
     "data": {
      "text/plain": [
       "array([b'Iris-setosa', b'Iris-setosa', b'Iris-setosa', b'Iris-setosa',\n",
       "       b'Iris-setosa'], dtype='|S18')"
      ]
     },
     "execution_count": 52,
     "metadata": {},
     "output_type": "execute_result"
    }
   ],
   "source": [
    "url = 'https://archive.ics.uci.edu/ml/machine-learning-databases/iris/iris.data'\n",
    "iris_1d = np.genfromtxt(url, delimiter=',', dtype=None)\n",
    "\n",
    "species = np.array([row[4] for row in iris_1d])\n",
    "species[:5]"
   ]
  },
  {
   "cell_type": "markdown",
   "metadata": {},
   "source": [
    "# 27 如何将一维tuple数组转二维\n",
    "```\n",
    "in:同26\n",
    "```"
   ]
  },
  {
   "cell_type": "code",
   "execution_count": 53,
   "metadata": {},
   "outputs": [
    {
     "name": "stderr",
     "output_type": "stream",
     "text": [
      "/opt/conda/lib/python3.7/site-packages/ipykernel_launcher.py:2: VisibleDeprecationWarning: Reading unicode strings without specifying the encoding argument is deprecated. Set the encoding, use None for the system default.\n",
      "  \n"
     ]
    },
    {
     "data": {
      "text/plain": [
       "array([[5.1, 3.5, 1.4, 0.2],\n",
       "       [4.9, 3. , 1.4, 0.2],\n",
       "       [4.7, 3.2, 1.3, 0.2],\n",
       "       [4.6, 3.1, 1.5, 0.2]])"
      ]
     },
     "execution_count": 53,
     "metadata": {},
     "output_type": "execute_result"
    }
   ],
   "source": [
    "url = 'https://archive.ics.uci.edu/ml/machine-learning-databases/iris/iris.data'\n",
    "iris_1d = np.genfromtxt(url, delimiter=',', dtype=None)\n",
    "\n",
    "iris_2d = np.array([row.tolist()[:4] for row in iris_1d])\n",
    "iris_2d[:4]"
   ]
  },
  {
   "cell_type": "markdown",
   "metadata": {},
   "source": [
    "# 28 计算数组均值、中位数、标准差\n",
    "```\n",
    "in: np.arange(1000)\n",
    "out:499.5 499.5 288.6749902572095\n",
    "```"
   ]
  },
  {
   "cell_type": "code",
   "execution_count": 60,
   "metadata": {},
   "outputs": [
    {
     "name": "stdout",
     "output_type": "stream",
     "text": [
      "499.5 499.5 288.6749902572095\n"
     ]
    }
   ],
   "source": [
    "a = np.arange(1000)\n",
    "\n",
    "print(np.mean(a),np.median(a),np.std(a))"
   ]
  },
  {
   "cell_type": "markdown",
   "metadata": {},
   "source": [
    "# 29 数组归一化\n",
    "```\n",
    "in:a = np.arange(15)\n",
    "a = a.reshape(3,5)\n",
    "out:array([[0.      , 0.071429, 0.142857, 0.214286, 0.285714],\n",
    "       [0.357143, 0.428571, 0.5     , 0.571429, 0.642857],\n",
    "       [0.714286, 0.785714, 0.857143, 0.928571, 1.      ]])\n",
    "```"
   ]
  },
  {
   "cell_type": "code",
   "execution_count": 62,
   "metadata": {},
   "outputs": [
    {
     "data": {
      "text/plain": [
       "array([[0.      , 0.071429, 0.142857, 0.214286, 0.285714],\n",
       "       [0.357143, 0.428571, 0.5     , 0.571429, 0.642857],\n",
       "       [0.714286, 0.785714, 0.857143, 0.928571, 1.      ]])"
      ]
     },
     "execution_count": 62,
     "metadata": {},
     "output_type": "execute_result"
    }
   ],
   "source": [
    "a = np.arange(15)\n",
    "a = a.reshape(3,5)\n",
    "\n",
    "ma = a.max()\n",
    "mi = a.min()\n",
    "\n",
    "(a-mi)/(ma-mi)"
   ]
  },
  {
   "cell_type": "markdown",
   "metadata": {},
   "source": [
    "# 30 如何计算softmax分数"
   ]
  },
  {
   "cell_type": "code",
   "execution_count": null,
   "metadata": {},
   "outputs": [],
   "source": []
  },
  {
   "cell_type": "markdown",
   "metadata": {},
   "source": [
    "# 31找到第5%和第95%大的值\n",
    "\n",
    "```\n",
    "in:a = np.random.rand(100)\n",
    "```"
   ]
  },
  {
   "cell_type": "code",
   "execution_count": 69,
   "metadata": {},
   "outputs": [
    {
     "data": {
      "text/plain": [
       "array([0.151164, 0.979904])"
      ]
     },
     "execution_count": 69,
     "metadata": {},
     "output_type": "execute_result"
    }
   ],
   "source": [
    "a = np.random.rand(100)\n",
    "\n",
    "np.percentile(a, q=[5, 95])"
   ]
  },
  {
   "cell_type": "markdown",
   "metadata": {},
   "source": [
    "# 32 如何在随机位置改值，在一个数组中随机10个位置改为nan\n",
    "```\n",
    "in: a = np.random.rand(100)\n",
    "```"
   ]
  },
  {
   "cell_type": "code",
   "execution_count": 78,
   "metadata": {},
   "outputs": [
    {
     "data": {
      "text/plain": [
       "array([0.367221, 0.84715 , 0.496094, 0.063552, 0.092873, 0.692343,\n",
       "       0.544042, 0.587101, 0.445091, 0.819553, 0.323718, 0.530365,\n",
       "            nan, 0.714622, 0.553754, 0.080318, 0.123167, 0.383021,\n",
       "            nan, 0.776389, 0.026331, 0.275851, 0.365678, 0.756346,\n",
       "       0.448301,      nan, 0.342772, 0.81481 , 0.412086, 0.485733,\n",
       "            nan, 0.639077, 0.040417, 0.667013,      nan, 0.082286,\n",
       "            nan, 0.221316, 0.365021, 0.29824 , 0.833417, 0.078827,\n",
       "       0.58197 , 0.562364, 0.251833, 0.155557, 0.588294, 0.606843,\n",
       "       0.72987 ,      nan, 0.761078, 0.935699, 0.397213, 0.846449,\n",
       "       0.649563,      nan,      nan, 0.301628, 0.275923, 0.555141,\n",
       "       0.064069, 0.496512, 0.377168, 0.757503, 0.299125, 0.046043,\n",
       "       0.360029, 0.472465, 0.564888,      nan, 0.391272, 0.795728,\n",
       "       0.844789, 0.744575, 0.332533,      nan, 0.736666, 0.727053,\n",
       "            nan, 0.546882, 0.467898,      nan,      nan,      nan,\n",
       "            nan, 0.438398, 0.202399,      nan, 0.305068,      nan,\n",
       "       0.680621, 0.576541,      nan, 0.91648 , 0.205891, 0.654254,\n",
       "       0.821539, 0.024452, 0.295917, 0.915652])"
      ]
     },
     "execution_count": 78,
     "metadata": {},
     "output_type": "execute_result"
    }
   ],
   "source": [
    "a = np.random.rand(100)\n",
    "\n",
    "np.set_printoptions(threshold=100)\n",
    "a[np.random.randint(100, size=20)] = np.nan\n",
    "a"
   ]
  },
  {
   "cell_type": "markdown",
   "metadata": {},
   "source": [
    "# 33 找出数组中nan的位置\n",
    "```\n",
    "in: a = np.random.rand(100)\n",
    "a[np.random.randint(100, size=20)] = np.nan\n",
    "out: 20\n",
    "```"
   ]
  },
  {
   "cell_type": "code",
   "execution_count": 96,
   "metadata": {},
   "outputs": [
    {
     "data": {
      "text/plain": [
       "array([0.324503, 0.92415 , 0.224604, 0.920397, 0.111644, 0.615646,\n",
       "            nan,      nan, 0.97615 ,      nan, 0.174149, 0.438156,\n",
       "       0.486434, 0.399786,      nan, 0.878054, 0.53391 , 0.925272,\n",
       "       0.176212, 0.735649, 0.064153, 0.918317, 0.307711, 0.334738,\n",
       "       0.041554, 0.198561, 0.338814,      nan, 0.878297, 0.962499,\n",
       "            nan, 0.393642, 0.048378, 0.913863,      nan,      nan,\n",
       "       0.679602, 0.160135, 0.843057, 0.646093, 0.586071, 0.034345,\n",
       "            nan, 0.310419, 0.742146,      nan, 0.697671, 0.507133,\n",
       "       0.953483, 0.744176, 0.380478, 0.996924,      nan, 0.55677 ,\n",
       "       0.975806, 0.853364,      nan,      nan, 0.046852, 0.418291,\n",
       "       0.133889, 0.19492 ,      nan, 0.189996,      nan, 0.552613,\n",
       "       0.934444, 0.901295, 0.488801, 0.457915, 0.293427, 0.749034,\n",
       "       0.484015, 0.956225,      nan, 0.095119,      nan, 0.801677,\n",
       "       0.633981, 0.883126, 0.615573,      nan, 0.745867, 0.892919,\n",
       "       0.325219, 0.678684, 0.885879, 0.891183, 0.553289, 0.323361,\n",
       "       0.2018  , 0.568294,      nan, 0.015269, 0.018051, 0.998596,\n",
       "       0.454411, 0.900144, 0.814812, 0.107019])"
      ]
     },
     "execution_count": 96,
     "metadata": {},
     "output_type": "execute_result"
    }
   ],
   "source": [
    "a = np.random.rand(100)\n",
    "a[np.random.randint(100, size=20)] = np.nan\n",
    "\n",
    "np.where(np.isnan(a))"
   ]
  },
  {
   "cell_type": "markdown",
   "metadata": {},
   "source": [
    "# 34 使用2个或以上条件来过滤数组元素\n",
    "```\n",
    "in: a = np.random.rand(100)\n",
    "out:在>0.2 且 <0.8\n",
    "```"
   ]
  },
  {
   "cell_type": "code",
   "execution_count": 93,
   "metadata": {},
   "outputs": [
    {
     "data": {
      "text/plain": [
       "array([0.505286, 0.359439, 0.370473, 0.56502 , 0.273003, 0.375311,\n",
       "       0.460157, 0.707518, 0.507518, 0.256456, 0.778871, 0.632669,\n",
       "       0.731234, 0.202074, 0.587657, 0.638553, 0.668084, 0.234537,\n",
       "       0.321053, 0.485407, 0.680832, 0.555104, 0.24576 , 0.282828,\n",
       "       0.200803, 0.460216, 0.612456, 0.331577, 0.206174, 0.332196,\n",
       "       0.224276, 0.555768, 0.207947, 0.791116, 0.634769, 0.295991,\n",
       "       0.7841  , 0.299752, 0.240872, 0.60146 , 0.583439, 0.478671,\n",
       "       0.385125, 0.417571, 0.217019, 0.66623 , 0.584857, 0.447904,\n",
       "       0.544327, 0.72317 , 0.429534, 0.343862, 0.694923, 0.391035,\n",
       "       0.416593, 0.217328, 0.723543, 0.243319])"
      ]
     },
     "execution_count": 93,
     "metadata": {},
     "output_type": "execute_result"
    }
   ],
   "source": [
    "a = np.random.rand(100)\n",
    "\n",
    "a[ (a>0.2) & (a<0.8)]"
   ]
  },
  {
   "cell_type": "markdown",
   "metadata": {},
   "source": [
    "# 35 删除含有nan的行\n",
    "```\n",
    "in:a = np.random.rand(100)\n",
    "a[np.random.randint(100, size=4)] = np.nan\n",
    "a = a.reshape(10,10)\n",
    "```"
   ]
  },
  {
   "cell_type": "code",
   "execution_count": 100,
   "metadata": {},
   "outputs": [
    {
     "data": {
      "text/plain": [
       "array([[0.469279, 0.292379, 0.126424, 0.651501, 0.357434, 0.001018,\n",
       "        0.683225, 0.053303, 0.869686, 0.927879],\n",
       "       [0.759192, 0.884696, 0.791406, 0.730052, 0.068462, 0.899897,\n",
       "        0.922347, 0.367359, 0.980723, 0.327251],\n",
       "       [0.884174, 0.749989, 0.204463, 0.342874, 0.715518, 0.997229,\n",
       "        0.411931, 0.147775, 0.982149, 0.656313],\n",
       "       [0.037461, 0.738958, 0.484626, 0.207378, 0.762452, 0.862403,\n",
       "        0.305952, 0.166806, 0.34436 , 0.361047],\n",
       "       [0.944692, 0.243775, 0.499886, 0.76773 , 0.812143, 0.480896,\n",
       "        0.469565, 0.236539, 0.513995, 0.542819],\n",
       "       [0.080102, 0.585955, 0.598042, 0.172456, 0.310306, 0.619878,\n",
       "        0.759961, 0.695467, 0.961103, 0.258361],\n",
       "       [0.235638, 0.063431, 0.612692, 0.674481, 0.534851, 0.683522,\n",
       "        0.445233, 0.883322, 0.873598, 0.48444 ]])"
      ]
     },
     "execution_count": 100,
     "metadata": {},
     "output_type": "execute_result"
    }
   ],
   "source": [
    "a = np.random.rand(100)\n",
    "a[np.random.randint(100, size=4)] = np.nan\n",
    "a = a.reshape(10,10)\n",
    "\n",
    "any_nan_in_row = np.array([~np.any(np.isnan(row)) for row in a])\n",
    "a[any_nan_in_row]"
   ]
  },
  {
   "cell_type": "markdown",
   "metadata": {},
   "source": [
    "# 36 求两列相关性(如第0和第2列相关性)\n",
    "```\n",
    "in:a = np.random.rand(100)\n",
    "a = a.reshape(10,10)\n",
    "```"
   ]
  },
  {
   "cell_type": "code",
   "execution_count": 105,
   "metadata": {},
   "outputs": [
    {
     "data": {
      "text/plain": [
       "-0.28118304787759907"
      ]
     },
     "execution_count": 105,
     "metadata": {},
     "output_type": "execute_result"
    }
   ],
   "source": [
    "a = np.random.rand(100)\n",
    "a = a.reshape(10,10)\n",
    "np.corrcoef(a[:,0], a[:,2])[0, 1]"
   ]
  },
  {
   "cell_type": "markdown",
   "metadata": {},
   "source": [
    "# 37 判断数组是否有nan值\n",
    "```\n",
    "in:a = np.random.rand(100)\n",
    "a[np.random.randint(100, size=4)] = np.nan\n",
    "a = a.reshape(10,10)\n",
    "```"
   ]
  },
  {
   "cell_type": "code",
   "execution_count": 107,
   "metadata": {},
   "outputs": [
    {
     "data": {
      "text/plain": [
       "True"
      ]
     },
     "execution_count": 107,
     "metadata": {},
     "output_type": "execute_result"
    }
   ],
   "source": [
    "a = np.random.rand(100)\n",
    "a[np.random.randint(100, size=4)] = np.nan\n",
    "a = a.reshape(10,10)\n",
    "\n",
    "np.isnan(a).any()"
   ]
  },
  {
   "cell_type": "markdown",
   "metadata": {},
   "source": [
    "# 38 将数组中的nan全部替换为0"
   ]
  },
  {
   "cell_type": "code",
   "execution_count": 108,
   "metadata": {},
   "outputs": [
    {
     "data": {
      "text/plain": [
       "array([[0.469275, 0.981274, 0.198126, 0.      , 0.      , 0.67197 ,\n",
       "        0.138278, 0.045228, 0.509814, 0.720033],\n",
       "       [0.903867, 0.086206, 0.60375 , 0.887383, 0.12605 , 0.750228,\n",
       "        0.996326, 0.605016, 0.817381, 0.432591],\n",
       "       [0.499365, 0.      , 0.352128, 0.923922, 0.086436, 0.980593,\n",
       "        0.621359, 0.495066, 0.222476, 0.410672],\n",
       "       [0.736661, 0.304712, 0.999326, 0.063155, 0.598858, 0.929646,\n",
       "        0.551253, 0.517314, 0.171288, 0.126777],\n",
       "       [0.217174, 0.248695, 0.268479, 0.259258, 0.101304, 0.497391,\n",
       "        0.161555, 0.240536, 0.592359, 0.774077],\n",
       "       [0.3875  , 0.708268, 0.256229, 0.315725, 0.956084, 0.77184 ,\n",
       "        0.962962, 0.518983, 0.6779  , 0.      ],\n",
       "       [0.146832, 0.02647 , 0.682916, 0.587598, 0.856607, 0.650691,\n",
       "        0.303662, 0.98863 , 0.267801, 0.557486],\n",
       "       [0.611487, 0.134875, 0.107509, 0.113221, 0.359047, 0.41046 ,\n",
       "        0.920028, 0.78066 , 0.972009, 0.138282],\n",
       "       [0.527348, 0.254863, 0.956122, 0.273627, 0.935752, 0.773059,\n",
       "        0.478094, 0.726534, 0.131236, 0.29094 ],\n",
       "       [0.899601, 0.868839, 0.207736, 0.970456, 0.974052, 0.632779,\n",
       "        0.178033, 0.658846, 0.255201, 0.337404]])"
      ]
     },
     "execution_count": 108,
     "metadata": {},
     "output_type": "execute_result"
    }
   ],
   "source": [
    "a = np.random.rand(100)\n",
    "a[np.random.randint(100, size=4)] = np.nan\n",
    "a = a.reshape(10,10)\n",
    "\n",
    "a[np.isnan(a)]=0"
   ]
  },
  {
   "cell_type": "markdown",
   "metadata": {},
   "source": [
    "# 39 求数组不重复值个数\n",
    "```\n",
    "in: a = np.random.rand(100)\n",
    "a[np.random.randint(100, size=4)] = np.nan\n",
    "a = a.reshape(10,10)\n",
    "a = a*10\n",
    "a = a.astype('int16')\n",
    "```"
   ]
  },
  {
   "cell_type": "code",
   "execution_count": 115,
   "metadata": {},
   "outputs": [
    {
     "data": {
      "text/plain": [
       "10"
      ]
     },
     "execution_count": 115,
     "metadata": {},
     "output_type": "execute_result"
    }
   ],
   "source": [
    "a = np.random.rand(100)\n",
    "a[np.random.randint(100, size=4)] = np.nan\n",
    "a = a.reshape(10,10)\n",
    "a = a*10\n",
    "a = a.astype('int16')\n",
    "\n",
    "\n",
    "len(np.unique(a))"
   ]
  },
  {
   "cell_type": "markdown",
   "metadata": {},
   "source": [
    "# 40 数字转文本（0-3转s，4-6转m，7-9转l）\n",
    "```\n",
    "a = np.random.rand(100)\n",
    "a = a.reshape(10,10)\n",
    "a = a*10\n",
    "a = a.astype('int16')\n",
    "```"
   ]
  },
  {
   "cell_type": "code",
   "execution_count": 129,
   "metadata": {},
   "outputs": [
    {
     "data": {
      "text/plain": [
       "array([[b'm', b's', b'l', b's', b'l', b's', b'm', b'm', b's', b'l'],\n",
       "       [b's', b'l', b's', b'm', b'm', b's', b's', b'l', b's', b'm'],\n",
       "       [b's', b'l', b's', b's', b'l', b'm', b'm', b'm', b'l', b's'],\n",
       "       [b's', b's', b'm', b's', b'l', b'l', b'l', b's', b's', b's'],\n",
       "       [b'l', b's', b's', b's', b's', b'm', b's', b'm', b'm', b'l'],\n",
       "       [b's', b's', b's', b'm', b'l', b'l', b's', b'm', b'l', b'l'],\n",
       "       [b'l', b's', b'l', b'm', b'l', b'l', b'l', b'l', b'l', b's'],\n",
       "       [b'm', b'm', b's', b'l', b'm', b'l', b's', b's', b'l', b'l'],\n",
       "       [b'l', b'l', b'l', b'm', b's', b's', b's', b's', b'l', b'm'],\n",
       "       [b'l', b'm', b'm', b'l', b's', b'm', b'm', b's', b'l', b'm']],\n",
       "      dtype='|S20')"
      ]
     },
     "execution_count": 129,
     "metadata": {},
     "output_type": "execute_result"
    }
   ],
   "source": [
    "a = np.random.rand(100)\n",
    "a[np.random.randint(100, size=4)] = np.nan\n",
    "a = a.reshape(10,10)\n",
    "a = a*10\n",
    "a = a.astype('int16')\n",
    "\n",
    "b = np.full_like(a,\"\",dtype='S20')\n",
    "b[a<=3] = 's'\n",
    "b[(a>3) & (a<=6)]='m'\n",
    "b[(a>6) & (a<=9)]='l'\n",
    "\n",
    "b"
   ]
  },
  {
   "cell_type": "markdown",
   "metadata": {},
   "source": [
    "# 41 用现有的列，创建新的一列（第0列叫x,第1列叫y，新增 sin(pi*(x/100)) * y^2）\n",
    "```\n",
    "a = np.random.rand(100)\n",
    "a = a.reshape(10,10)\n",
    "a = a*10\n",
    "a = a.astype('int16')\n",
    "```"
   ]
  },
  {
   "cell_type": "code",
   "execution_count": 128,
   "metadata": {},
   "outputs": [
    {
     "data": {
      "text/plain": [
       "array([0.      , 1.130787, 1.963289, 0.218143, 4.684533, 0.      ,\n",
       "       3.910862, 1.539127, 0.      , 1.686432])"
      ]
     },
     "execution_count": 128,
     "metadata": {},
     "output_type": "execute_result"
    }
   ],
   "source": [
    "a = np.random.rand(100)\n",
    "a = a.reshape(10,10)\n",
    "a = a*10\n",
    "a = a.astype('int16')\n",
    "\n",
    "np.sin(np.pi*(a[0]/100))*(a[1]**2)"
   ]
  },
  {
   "cell_type": "markdown",
   "metadata": {},
   "source": [
    "# 42 从1d数组中抽样选出10个元素\n",
    "```\n",
    "in:a = np.random.rand(100)\n",
    "a = a*10\n",
    "a = a.astype('int16')\n",
    "```\n"
   ]
  },
  {
   "cell_type": "code",
   "execution_count": 130,
   "metadata": {},
   "outputs": [
    {
     "data": {
      "text/plain": [
       "array([3, 6, 5, 5, 7, 3, 2, 3, 3, 8], dtype=int16)"
      ]
     },
     "execution_count": 130,
     "metadata": {},
     "output_type": "execute_result"
    }
   ],
   "source": [
    "a = np.random.rand(100)\n",
    "a = a*10\n",
    "a = a.astype('int16')\n",
    "\n",
    "np.random.choice(a,10)"
   ]
  },
  {
   "cell_type": "markdown",
   "metadata": {},
   "source": [
    "# 43 如何获取1d数组中不重复的第二大的值\n",
    "```\n",
    "in:a = np.random.rand(100)\n",
    "a = a*10\n",
    "a = a.astype('int16')\n",
    "```"
   ]
  },
  {
   "cell_type": "code",
   "execution_count": 138,
   "metadata": {},
   "outputs": [
    {
     "data": {
      "text/plain": [
       "8"
      ]
     },
     "execution_count": 138,
     "metadata": {},
     "output_type": "execute_result"
    }
   ],
   "source": [
    "a = np.random.rand(100)\n",
    "a = a*10\n",
    "a = a.astype('int16')\n",
    "\n",
    "np.unique(np.sort(a))[-2]"
   ]
  },
  {
   "cell_type": "markdown",
   "metadata": {},
   "source": [
    "# 44 依据某一列对2d数组排序(例如根据第0列排序)\n",
    "```\n",
    "in:a = np.random.rand(100)\n",
    "a = a*10\n",
    "a = a.astype('int16')\n",
    "a = a.reshape(10,10)\n",
    "```"
   ]
  },
  {
   "cell_type": "code",
   "execution_count": 141,
   "metadata": {},
   "outputs": [
    {
     "data": {
      "text/plain": [
       "array([[0, 2, 0, 7, 8, 2, 4, 9, 9, 7],\n",
       "       [1, 2, 6, 1, 7, 9, 1, 2, 7, 1],\n",
       "       [1, 4, 1, 1, 6, 8, 0, 8, 9, 7],\n",
       "       [3, 6, 1, 2, 2, 6, 6, 5, 0, 5],\n",
       "       [3, 4, 7, 8, 6, 5, 8, 6, 2, 3],\n",
       "       [4, 6, 0, 9, 5, 0, 7, 1, 0, 9],\n",
       "       [5, 0, 1, 9, 4, 6, 8, 5, 2, 7],\n",
       "       [6, 2, 3, 4, 7, 6, 2, 4, 4, 8],\n",
       "       [6, 2, 7, 9, 5, 9, 9, 7, 2, 6],\n",
       "       [6, 0, 7, 1, 0, 2, 5, 8, 2, 8]], dtype=int16)"
      ]
     },
     "execution_count": 141,
     "metadata": {},
     "output_type": "execute_result"
    }
   ],
   "source": [
    "a = np.random.rand(100)\n",
    "a = a*10\n",
    "a = a.astype('int16')\n",
    "a = a.reshape(10,10)\n",
    "\n",
    "a[a[:,0].argsort()]"
   ]
  },
  {
   "cell_type": "markdown",
   "metadata": {},
   "source": [
    "# 45 众数\n",
    "```\n",
    "in:a = np.random.rand(100)\n",
    "a = a*10\n",
    "a = a.astype('int16')\n",
    "a = a.reshape(10,10)\n",
    "```"
   ]
  },
  {
   "cell_type": "code",
   "execution_count": 147,
   "metadata": {},
   "outputs": [
    {
     "name": "stdout",
     "output_type": "stream",
     "text": [
      "[[3 6 8 2 5 9 8 3 0 5]\n",
      " [9 4 4 8 2 7 7 4 0 8]\n",
      " [2 0 6 9 0 2 9 6 0 8]\n",
      " [8 8 2 3 3 5 7 3 9 7]\n",
      " [1 7 7 0 6 4 5 8 3 3]\n",
      " [8 0 4 8 7 2 4 0 9 3]\n",
      " [2 1 9 0 7 6 3 4 5 8]\n",
      " [6 9 5 5 1 1 6 4 6 2]\n",
      " [1 0 7 3 3 8 6 0 8 2]\n",
      " [7 2 4 6 7 8 8 7 5 9]]\n"
     ]
    },
    {
     "data": {
      "text/plain": [
       "8"
      ]
     },
     "execution_count": 147,
     "metadata": {},
     "output_type": "execute_result"
    }
   ],
   "source": [
    "a = np.random.rand(100)\n",
    "a = a*10\n",
    "a = a.astype('int16')\n",
    "a = a.reshape(10,10)\n",
    "\n",
    "print(a)\n",
    "v,c = np.unique(a,return_counts=True)\n",
    "v[np.argmax(c)]"
   ]
  },
  {
   "cell_type": "markdown",
   "metadata": {},
   "source": [
    "# 46 找出比给定值大的数第一次出现的位置\n",
    "```\n",
    "in:a = np.random.rand(100)\n",
    "a = a*10\n",
    "a = a.astype('int16')\n",
    "\n",
    "b = 5\n",
    "```"
   ]
  },
  {
   "cell_type": "code",
   "execution_count": 156,
   "metadata": {},
   "outputs": [
    {
     "data": {
      "text/plain": [
       "array([2])"
      ]
     },
     "execution_count": 156,
     "metadata": {},
     "output_type": "execute_result"
    }
   ],
   "source": [
    "a = np.random.rand(100)\n",
    "a = a*10\n",
    "a = a.astype('int16')\n",
    "b = 5\n",
    "\n",
    "\n",
    "np.argwhere(a>b)[0]"
   ]
  },
  {
   "cell_type": "markdown",
   "metadata": {},
   "source": [
    "# 47 将所有>7的替换为7，<3的替换为3\n",
    "```\n",
    "in:a = np.random.rand(100)\n",
    "a = a*10\n",
    "a = a.astype('int16')\n",
    "a = a.reshape(10,10)\n",
    "```"
   ]
  },
  {
   "cell_type": "code",
   "execution_count": 160,
   "metadata": {},
   "outputs": [
    {
     "data": {
      "text/plain": [
       "array([[4, 3, 7, 7, 3, 9, 5, 4, 3, 3],\n",
       "       [3, 3, 6, 3, 3, 7, 3, 8, 3, 7],\n",
       "       [3, 3, 4, 7, 7, 3, 6, 8, 4, 7],\n",
       "       [6, 5, 3, 8, 7, 4, 3, 3, 3, 4],\n",
       "       [8, 5, 8, 5, 9, 6, 5, 3, 5, 3],\n",
       "       [8, 5, 4, 3, 5, 3, 3, 9, 5, 7],\n",
       "       [3, 3, 4, 9, 7, 5, 8, 3, 9, 4],\n",
       "       [6, 8, 3, 8, 8, 3, 5, 5, 3, 5],\n",
       "       [6, 8, 4, 8, 3, 3, 5, 5, 3, 9],\n",
       "       [5, 9, 4, 8, 6, 3, 3, 3, 9, 3]], dtype=int16)"
      ]
     },
     "execution_count": 160,
     "metadata": {},
     "output_type": "execute_result"
    }
   ],
   "source": [
    "a = np.random.rand(100)\n",
    "a = a*10\n",
    "a = a.astype('int16')\n",
    "a = a.reshape(10,10)\n",
    "np.where(a < 3, 3, np.where(a > 10, 10, a))"
   ]
  },
  {
   "cell_type": "markdown",
   "metadata": {},
   "source": [
    "# 48 获取1d数组topK大的值（例如k=5）\n",
    "```\n",
    "a = np.random.uniform(1,50, 20)\n",
    "```"
   ]
  },
  {
   "cell_type": "code",
   "execution_count": 164,
   "metadata": {},
   "outputs": [
    {
     "data": {
      "text/plain": [
       "array([43.788397, 46.521927, 47.91429 , 48.405591, 49.8292  ])"
      ]
     },
     "execution_count": 164,
     "metadata": {},
     "output_type": "execute_result"
    }
   ],
   "source": [
    "a = np.random.uniform(1,50, 20)\n",
    "np.sort(a)[-5:]"
   ]
  },
  {
   "cell_type": "markdown",
   "metadata": {},
   "source": [
    "# 50 如何把数组的数组转为1d数组\n",
    "```\n",
    "# Input:\n",
    "arr1 = np.arange(3)\n",
    "arr2 = np.arange(3,7)\n",
    "arr3 = np.arange(7,10)\n",
    "\n",
    "array_of_arrays = np.array([arr1, arr2, arr3])\n",
    "```"
   ]
  },
  {
   "cell_type": "code",
   "execution_count": 169,
   "metadata": {},
   "outputs": [
    {
     "data": {
      "text/plain": [
       "array([0, 1, 2, 3, 4, 5, 6, 7, 8, 9])"
      ]
     },
     "execution_count": 169,
     "metadata": {},
     "output_type": "execute_result"
    }
   ],
   "source": [
    "# Input:\n",
    "arr1 = np.arange(3)\n",
    "arr2 = np.arange(3,7)\n",
    "arr3 = np.arange(7,10)\n",
    "\n",
    "array_of_arrays = np.array([arr1, arr2, arr3])\n",
    "\n",
    "\n",
    "np.array([a for arr in array_of_arrays  for a in arr])"
   ]
  },
  {
   "cell_type": "markdown",
   "metadata": {},
   "source": [
    "# 51 为数组的每个元素生成二进制编码\n",
    "```\n",
    "in: a = np.array([2, 3, 2, 2, 2, 1])\n",
    "out:array([[ 0.,  1.,  0.],\n",
    "        [ 0.,  0.,  1.],\n",
    "        [ 0.,  1.,  0.],\n",
    "        [ 0.,  1.,  0.],\n",
    "        [ 0.,  1.,  0.],\n",
    "        [ 1.,  0.,  0.]])\n",
    "```"
   ]
  },
  {
   "cell_type": "code",
   "execution_count": 172,
   "metadata": {},
   "outputs": [
    {
     "data": {
      "text/plain": [
       "array([[0., 1., 0.],\n",
       "       [0., 0., 1.],\n",
       "       [0., 1., 0.],\n",
       "       [0., 1., 0.],\n",
       "       [0., 1., 0.],\n",
       "       [1., 0., 0.]])"
      ]
     },
     "execution_count": 172,
     "metadata": {},
     "output_type": "execute_result"
    }
   ],
   "source": [
    "a = np.array([2, 3, 2, 2, 2, 1])\n",
    "def one_hot_encodings(arr):\n",
    "    uniqs = np.unique(arr)\n",
    "    out = np.zeros((arr.shape[0], uniqs.shape[0]))\n",
    "    for i, k in enumerate(arr):\n",
    "        out[i, k-1] = 1\n",
    "    return out\n",
    "\n",
    "one_hot_encodings(a)"
   ]
  },
  {
   "cell_type": "markdown",
   "metadata": {},
   "source": [
    "# 52 分好组的元素给定组内行号\n",
    "```\n",
    "in: a = np.array(['a','a','a','b','b','c','c','c','c'])\n",
    "out: array([0,1,2,0,1,0,1,2,3])\n",
    "```"
   ]
  },
  {
   "cell_type": "code",
   "execution_count": 173,
   "metadata": {},
   "outputs": [
    {
     "name": "stdout",
     "output_type": "stream",
     "text": [
      "[0, 1, 2, 0, 1, 0, 1, 2, 3]\n"
     ]
    }
   ],
   "source": [
    "a = np.array(['a','a','a','b','b','c','c','c','c'])\n",
    "print([i for val in np.unique(a) for i, grp in enumerate(a[a==val])])"
   ]
  },
  {
   "cell_type": "markdown",
   "metadata": {},
   "source": [
    "# 53 分好组的元素每组给个标号\n",
    "```\n",
    "in: a = np.array(['a','a','a','b','b','c','c','c','c'])\n",
    "out: array([0,0,0,1,1,2,2,2,2])\n",
    "```"
   ]
  },
  {
   "cell_type": "code",
   "execution_count": 176,
   "metadata": {},
   "outputs": [
    {
     "data": {
      "text/plain": [
       "[0, 0, 0, 1, 1, 2, 2, 2, 2]"
      ]
     },
     "execution_count": 176,
     "metadata": {},
     "output_type": "execute_result"
    }
   ],
   "source": [
    "a = np.array(['a','a','a','b','b','c','c','c','c'])\n",
    "[np.argwhere(np.unique(a) == s).tolist()[0][0] for val in np.unique(a) for s in a[a==val]]"
   ]
  },
  {
   "cell_type": "markdown",
   "metadata": {},
   "source": [
    "# 54 给出每个元素在排序后的位置下标数组\n",
    "```\n",
    "in: [ 9  4 15  0 17 16 17  8  9  0]\n",
    "out: [4 2 6 0 8 7 9 3 5 1]\n",
    "```"
   ]
  },
  {
   "cell_type": "code",
   "execution_count": 179,
   "metadata": {},
   "outputs": [
    {
     "name": "stdout",
     "output_type": "stream",
     "text": [
      "Array:  [ 9  4 15  0 17 16 17  8  9  0]\n",
      "[4 2 6 0 8 7 9 3 5 1]\n"
     ]
    }
   ],
   "source": [
    "np.random.seed(10)\n",
    "a = np.random.randint(20, size=10)\n",
    "print('Array: ', a)\n",
    "\n",
    "# Solution\n",
    "print(a.argsort().argsort())"
   ]
  },
  {
   "cell_type": "markdown",
   "metadata": {},
   "source": [
    "# 55 上题改成多维数组\n",
    "```\n",
    "in:np.random.seed(10)\n",
    "a = np.random.randint(20, size=[2,5])\n",
    "print(a)\n",
    "\n",
    "out:#> [[4 2 6 0 8]\n",
    "#>  [7 9 3 5 1]]\n",
    "```"
   ]
  },
  {
   "cell_type": "code",
   "execution_count": 180,
   "metadata": {},
   "outputs": [
    {
     "name": "stdout",
     "output_type": "stream",
     "text": [
      "[[ 9  4 15  0 17]\n",
      " [16 17  8  9  0]]\n",
      "[[4 2 6 0 8]\n",
      " [7 9 3 5 1]]\n"
     ]
    }
   ],
   "source": [
    "# Input:\n",
    "np.random.seed(10)\n",
    "a = np.random.randint(20, size=[2,5])\n",
    "print(a)\n",
    "\n",
    "# Solution\n",
    "print(a.ravel().argsort().argsort().reshape(a.shape))"
   ]
  },
  {
   "cell_type": "markdown",
   "metadata": {},
   "source": [
    "# 56 二维数组找出每一行的最大值\n",
    "```\n",
    "# Input\n",
    "np.random.seed(100)\n",
    "a = np.random.randint(1,10, [5,3])\n",
    "a\n",
    "```"
   ]
  },
  {
   "cell_type": "code",
   "execution_count": 183,
   "metadata": {},
   "outputs": [
    {
     "data": {
      "text/plain": [
       "array([9, 8, 6, 3, 9])"
      ]
     },
     "execution_count": 183,
     "metadata": {},
     "output_type": "execute_result"
    }
   ],
   "source": [
    "np.random.seed(100)\n",
    "a = np.random.randint(1,10, [5,3])\n",
    "# Solution 1\n",
    "np.amax(a, axis=1)"
   ]
  },
  {
   "cell_type": "markdown",
   "metadata": {},
   "source": [
    "# 57 上题变种，计算每一行max/min的值"
   ]
  },
  {
   "cell_type": "code",
   "execution_count": 184,
   "metadata": {},
   "outputs": [
    {
     "data": {
      "text/plain": [
       "array([0.444444, 0.125   , 0.5     , 1.      , 0.111111])"
      ]
     },
     "execution_count": 184,
     "metadata": {},
     "output_type": "execute_result"
    }
   ],
   "source": [
    "np.random.seed(100)\n",
    "a = np.random.randint(1,10, [5,3])\n",
    "np.apply_along_axis(lambda x: np.min(x)/np.max(x), arr=a, axis=1)"
   ]
  },
  {
   "cell_type": "markdown",
   "metadata": {},
   "source": [
    "# 58 找到数组中重复的值\n",
    "```\n",
    "in: [0 0 3 0 2 4 2 2 2 2]\n",
    "out:[False  True False  True False False  True  True  True  True]\n",
    "```"
   ]
  },
  {
   "cell_type": "code",
   "execution_count": 185,
   "metadata": {},
   "outputs": [
    {
     "name": "stdout",
     "output_type": "stream",
     "text": [
      "[False  True False  True False False  True  True  True  True]\n"
     ]
    }
   ],
   "source": [
    "# Input\n",
    "np.random.seed(100)\n",
    "a = np.random.randint(0, 5, 10)\n",
    "\n",
    "## Solution\n",
    "# There is no direct function to do this as of 1.13.3\n",
    "\n",
    "# Create an all True array\n",
    "out = np.full(a.shape[0], True)\n",
    "\n",
    "# Find the index positions of unique elements\n",
    "unique_positions = np.unique(a, return_index=True)[1]\n",
    "\n",
    "# Mark those positions as False\n",
    "out[unique_positions] = False\n",
    "\n",
    "print(out)"
   ]
  },
  {
   "cell_type": "markdown",
   "metadata": {},
   "source": [
    "# 60 将一张jpg图片转换为numpy数组\n",
    "```\n",
    "in:URL = 'https://upload.wikimedia.org/wikipedia/commons/8/8b/Denali_Mt_McKinley.jpg'\n",
    "```"
   ]
  },
  {
   "cell_type": "code",
   "execution_count": 186,
   "metadata": {},
   "outputs": [
    {
     "data": {
      "text/plain": [
       "Array([[[  9,  72, 125],\n",
       "        [  9,  72, 125],\n",
       "        [  9,  72, 125],\n",
       "        ...,\n",
       "        [ 42, 103, 147],\n",
       "        [ 42, 103, 147],\n",
       "        [ 43, 104, 148]],\n",
       "\n",
       "       [[  9,  72, 125],\n",
       "        [  9,  72, 125],\n",
       "        [ 10,  73, 126],\n",
       "        ...,\n",
       "        [ 42, 103, 147],\n",
       "        [ 42, 103, 147],\n",
       "        [ 43, 104, 148]],\n",
       "\n",
       "       [[  9,  72, 125],\n",
       "        [ 10,  73, 126],\n",
       "        [ 10,  73, 126],\n",
       "        ...,\n",
       "        [ 44, 105, 150],\n",
       "        [ 45, 106, 151],\n",
       "        [ 45, 106, 151]],\n",
       "\n",
       "       ...,\n",
       "\n",
       "       [[ 21,  41,  50],\n",
       "        [ 29,  51,  64],\n",
       "        [ 28,  54,  69],\n",
       "        ...,\n",
       "        [ 27,  58,  79],\n",
       "        [ 22,  53,  74],\n",
       "        [ 19,  47,  69]],\n",
       "\n",
       "       [[ 27,  51,  63],\n",
       "        [ 29,  55,  68],\n",
       "        [ 27,  56,  72],\n",
       "        ...,\n",
       "        [ 33,  70,  97],\n",
       "        [ 27,  64,  91],\n",
       "        [ 22,  57,  85]],\n",
       "\n",
       "       [[ 18,  45,  56],\n",
       "        [ 20,  48,  62],\n",
       "        [ 21,  52,  70],\n",
       "        ...,\n",
       "        [ 15,  51,  77],\n",
       "        [ 12,  48,  74],\n",
       "        [ 11,  45,  72]]], dtype=uint8)"
      ]
     },
     "execution_count": 186,
     "metadata": {},
     "output_type": "execute_result"
    }
   ],
   "source": [
    "URL = 'https://upload.wikimedia.org/wikipedia/commons/8/8b/Denali_Mt_McKinley.jpg'\n",
    "\n",
    "from skimage import io\n",
    "io.imread(URL)"
   ]
  },
  {
   "cell_type": "markdown",
   "metadata": {},
   "source": [
    "# 61 如何剔除所有nan值\n",
    "```\n",
    "in:np.array([1,2,3,np.nan,5,6,7,np.nan])\n",
    "out:array([ 1.,  2.,  3.,  5.,  6.,  7.])\n",
    "```"
   ]
  },
  {
   "cell_type": "code",
   "execution_count": 188,
   "metadata": {},
   "outputs": [
    {
     "data": {
      "text/plain": [
       "array([1., 2., 3., 5., 6., 7.])"
      ]
     },
     "execution_count": 188,
     "metadata": {},
     "output_type": "execute_result"
    }
   ],
   "source": [
    "a = np.array([1,2,3,np.nan,5,6,7,np.nan])\n",
    "a[~np.isnan(a)]"
   ]
  },
  {
   "cell_type": "markdown",
   "metadata": {},
   "source": [
    "# 62 如何计算两数组欧式距离\n",
    "```\n",
    "in:a = np.array([1,2,3,4,5])\n",
    "b = np.array([4,5,6,7,8])\n",
    "out:6.7082039324993694\n",
    "```"
   ]
  },
  {
   "cell_type": "code",
   "execution_count": 189,
   "metadata": {},
   "outputs": [
    {
     "data": {
      "text/plain": [
       "6.708203932499369"
      ]
     },
     "execution_count": 189,
     "metadata": {},
     "output_type": "execute_result"
    }
   ],
   "source": [
    "# Input\n",
    "a = np.array([1,2,3,4,5])\n",
    "b = np.array([4,5,6,7,8])\n",
    "\n",
    "# Solution\n",
    "dist = np.linalg.norm(a-b)\n",
    "dist"
   ]
  },
  {
   "cell_type": "markdown",
   "metadata": {},
   "source": [
    "# 63 一维数组找到所有峰值(比前后都大的值)的下标\n",
    "```\n",
    "in:a = np.array([1, 3, 7, 1, 2, 6, 0, 1])\n",
    "out:[2,5]\n",
    "```"
   ]
  },
  {
   "cell_type": "code",
   "execution_count": 190,
   "metadata": {},
   "outputs": [
    {
     "data": {
      "text/plain": [
       "array([2, 5])"
      ]
     },
     "execution_count": 190,
     "metadata": {},
     "output_type": "execute_result"
    }
   ],
   "source": [
    "a = np.array([1, 3, 7, 1, 2, 6, 0, 1])\n",
    "doublediff = np.diff(np.sign(np.diff(a)))\n",
    "peak_locations = np.where(doublediff == -2)[0] + 1\n",
    "peak_locations"
   ]
  },
  {
   "cell_type": "code",
   "execution_count": 195,
   "metadata": {},
   "outputs": [
    {
     "data": {
      "text/plain": [
       "[2, 5]"
      ]
     },
     "execution_count": 195,
     "metadata": {},
     "output_type": "execute_result"
    }
   ],
   "source": [
    "res =[]\n",
    "for i in range(1,len(a)-1):\n",
    "    if((a[i]>a[i-1])& (a[i]>a[i+1])):\n",
    "        res.append(i)\n",
    "res"
   ]
  },
  {
   "cell_type": "markdown",
   "metadata": {},
   "source": [
    "# 64 二维数组每一行都减去一个一维数组\n",
    "```\n",
    "in:a_2d = np.array([[3,3,3],[4,4,4],[5,5,5]])\n",
    "  b_1d = np.array([1,2,3])\n",
    "  \n",
    " out: [\n",
    "     [2,1,0],\n",
    "     [3,2,1],\n",
    "     [4,3,2]\n",
    " ]\n",
    "```"
   ]
  },
  {
   "cell_type": "code",
   "execution_count": 197,
   "metadata": {},
   "outputs": [
    {
     "name": "stdout",
     "output_type": "stream",
     "text": [
      "[[2 1 0]\n",
      " [3 2 1]\n",
      " [4 3 2]]\n"
     ]
    }
   ],
   "source": [
    "a_2d = np.array([[3,3,3],[4,4,4],[5,5,5]])\n",
    "b_1d = np.array([1,2,3])\n",
    "\n",
    "print(a_2d - b_1d)"
   ]
  },
  {
   "cell_type": "markdown",
   "metadata": {},
   "source": [
    "# 65 找到第n个特定数出现的下标\n",
    "```\n",
    "找第5个1出现的位置\n",
    "x = np.array([1, 2, 1, 1, 3, 4, 3, 1, 1, 2, 1, 1, 2])\n",
    "```"
   ]
  },
  {
   "cell_type": "code",
   "execution_count": 200,
   "metadata": {},
   "outputs": [
    {
     "data": {
      "text/plain": [
       "8"
      ]
     },
     "execution_count": 200,
     "metadata": {},
     "output_type": "execute_result"
    }
   ],
   "source": [
    "x = np.array([1, 2, 1, 1, 3, 4, 3, 1, 1, 2, 1, 1, 2])\n",
    "np.where(x==1)[0][4]"
   ]
  },
  {
   "cell_type": "markdown",
   "metadata": {},
   "source": [
    "# 66 将datetime64类型转datetime类型\n",
    "```\n",
    "in:dt64 = np.datetime64('2018-02-25 22:10:10')\n",
    "```"
   ]
  },
  {
   "cell_type": "code",
   "execution_count": 203,
   "metadata": {},
   "outputs": [
    {
     "data": {
      "text/plain": [
       "datetime.datetime(2018, 2, 25, 22, 10, 10)"
      ]
     },
     "execution_count": 203,
     "metadata": {},
     "output_type": "execute_result"
    }
   ],
   "source": [
    "dt64 = np.datetime64('2018-02-25 22:10:10')\n",
    "\n",
    "# from datetime import datetime\n",
    "# dt64.astype(datetime)\n",
    "\n",
    "\n",
    "dt64.tolist()"
   ]
  },
  {
   "cell_type": "markdown",
   "metadata": {},
   "source": [
    "# 67 计算滑动窗口均值(例如窗口大小3，就是0-2均值，1-3均值，2-4....)\n",
    "```\n",
    "in:np.random.seed(100)\n",
    "Z = np.random.randint(10, size=10)\n",
    "\n",
    "out:[ 6.33  6.    5.67  4.67  3.67  2.    3.67  3.  ]\n",
    "```"
   ]
  },
  {
   "cell_type": "code",
   "execution_count": 206,
   "metadata": {},
   "outputs": [
    {
     "data": {
      "text/plain": [
       "array([6.333333, 6.      , 5.666667, 4.666667, 3.666667, 2.      ,\n",
       "       3.666667, 3.      ])"
      ]
     },
     "execution_count": 206,
     "metadata": {},
     "output_type": "execute_result"
    }
   ],
   "source": [
    "np.random.seed(100)\n",
    "Z = np.random.randint(10, size=10)\n",
    "np.convolve(Z, np.ones(3)/3, mode='valid') "
   ]
  },
  {
   "cell_type": "markdown",
   "metadata": {},
   "source": [
    "# 68 创建一个等差数列初值5增幅3数组总长10"
   ]
  },
  {
   "cell_type": "code",
   "execution_count": 208,
   "metadata": {},
   "outputs": [
    {
     "data": {
      "text/plain": [
       "array([ 5,  8, 11, 14, 17, 20, 23, 26, 29, 32])"
      ]
     },
     "execution_count": 208,
     "metadata": {},
     "output_type": "execute_result"
    }
   ],
   "source": [
    "np.arange(5, 5+10*3, 3)"
   ]
  },
  {
   "cell_type": "markdown",
   "metadata": {},
   "source": [
    "# 69 如何在一系列无序日期中，补全缺失的日期\n"
   ]
  },
  {
   "cell_type": "code",
   "execution_count": 209,
   "metadata": {},
   "outputs": [
    {
     "name": "stdout",
     "output_type": "stream",
     "text": [
      "['2018-02-01' '2018-02-03' '2018-02-05' '2018-02-07' '2018-02-09'\n",
      " '2018-02-11' '2018-02-13' '2018-02-15' '2018-02-17' '2018-02-19'\n",
      " '2018-02-21' '2018-02-23']\n"
     ]
    },
    {
     "data": {
      "text/plain": [
       "array(['2018-02-01', '2018-02-02', '2018-02-03', '2018-02-04',\n",
       "       '2018-02-05', '2018-02-06', '2018-02-07', '2018-02-08',\n",
       "       '2018-02-09', '2018-02-10', '2018-02-11', '2018-02-12',\n",
       "       '2018-02-13', '2018-02-14', '2018-02-15', '2018-02-16',\n",
       "       '2018-02-17', '2018-02-18', '2018-02-19', '2018-02-20',\n",
       "       '2018-02-21', '2018-02-22', '2018-02-23'], dtype='datetime64[D]')"
      ]
     },
     "execution_count": 209,
     "metadata": {},
     "output_type": "execute_result"
    }
   ],
   "source": [
    "# Input\n",
    "dates = np.arange(np.datetime64('2018-02-01'), np.datetime64('2018-02-25'), 2)\n",
    "print(dates)\n",
    "\n",
    "# Solution ---------------\n",
    "filled_in = np.array([np.arange(date, (date+d)) for date, d in zip(dates, np.diff(dates))]).reshape(-1)\n",
    "\n",
    "# add the last day\n",
    "output = np.hstack([filled_in, dates[-1]])\n",
    "output\n",
    "\n",
    "# For loop version -------\n",
    "out = []\n",
    "for date, d in zip(dates, np.diff(dates)):\n",
    "    out.append(np.arange(date, (date+d)))\n",
    "\n",
    "filled_in = np.array(out).reshape(-1)\n",
    "\n",
    "# add the last day\n",
    "output = np.hstack([filled_in, dates[-1]])\n",
    "output"
   ]
  },
  {
   "cell_type": "markdown",
   "metadata": {},
   "source": [
    "# 70 给定一维数组，创建阶梯型二维数组，二维数组列数是4，步幅是2\n",
    "```\n",
    "in:arr = np.arange(15) \n",
    "out:#> [[ 0  1  2  3]\n",
    "#>  [ 2  3  4  5]\n",
    "#>  [ 4  5  6  7]\n",
    "#>  [ 6  7  8  9]\n",
    "#>  [ 8  9 10 11]\n",
    "#>  [10 11 12 13]]\n",
    "```"
   ]
  },
  {
   "cell_type": "code",
   "execution_count": 210,
   "metadata": {},
   "outputs": [
    {
     "name": "stdout",
     "output_type": "stream",
     "text": [
      "[[ 0  1  2  3]\n",
      " [ 2  3  4  5]\n",
      " [ 4  5  6  7]\n",
      " [ 6  7  8  9]\n",
      " [ 8  9 10 11]\n",
      " [10 11 12 13]]\n"
     ]
    }
   ],
   "source": [
    "def gen_strides(a, stride_len=5, window_len=5):\n",
    "    n_strides = ((a.size-window_len)//stride_len) + 1\n",
    "    # return np.array([a[s:(s+window_len)] for s in np.arange(0, a.size, stride_len)[:n_strides]])\n",
    "    return np.array([a[s:(s+window_len)] for s in np.arange(0, n_strides*stride_len, stride_len)])\n",
    "\n",
    "print(gen_strides(np.arange(15), stride_len=2, window_len=4))"
   ]
  },
  {
   "cell_type": "code",
   "execution_count": null,
   "metadata": {},
   "outputs": [],
   "source": []
  }
 ],
 "metadata": {
  "kernelspec": {
   "display_name": "Python 3",
   "language": "python",
   "name": "python3"
  },
  "language_info": {
   "codemirror_mode": {
    "name": "ipython",
    "version": 3
   },
   "file_extension": ".py",
   "mimetype": "text/x-python",
   "name": "python",
   "nbconvert_exporter": "python",
   "pygments_lexer": "ipython3",
   "version": "3.7.3"
  }
 },
 "nbformat": 4,
 "nbformat_minor": 2
}
